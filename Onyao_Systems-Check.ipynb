{
 "cells": [
  {
   "cell_type": "markdown",
   "id": "40209ae1-9364-4110-a4c1-bcf3db0ae9c0",
   "metadata": {
    "jupyter": {
     "source_hidden": true
    }
   },
   "source": [
    "# **What I hope to get out of this class**"
   ]
  },
  {
   "cell_type": "markdown",
   "id": "cac28d69-ed21-4de4-b764-eebc3a226812",
   "metadata": {},
   "source": [
    "## 1. Programming Fundamentals"
   ]
  },
  {
   "cell_type": "markdown",
   "id": "a127ddb9-9a35-4afa-bb06-1cf3f4cb3fe3",
   "metadata": {},
   "source": [
    "- Understand and apply fundamental programming concepts using Python."
   ]
  },
  {
   "cell_type": "markdown",
   "id": "4c15075a-5ef1-4a80-8289-3a85ef7589c3",
   "metadata": {},
   "source": [
    "## 2. Python Syntax and Best Practices"
   ]
  },
  {
   "cell_type": "markdown",
   "id": "e98e76a6-07dd-4a8f-b77b-91232b697820",
   "metadata": {},
   "source": [
    "- Gain proficiency in writing clean, readable, and efficient Python code.\n",
    "- Understand Pythonic coding style and adhere to best practices.\n"
   ]
  },
  {
   "cell_type": "markdown",
   "id": "66a88b59-9b26-4688-8b09-8caeacd24440",
   "metadata": {},
   "source": [
    "## 3. Jupyter Notebooks"
   ]
  },
  {
   "cell_type": "markdown",
   "id": "9e041353-6db9-4d8b-bfa7-f7ceec1af8bc",
   "metadata": {},
   "source": [
    "-  Understand how to use Jupyter Notebooks effectively for interactive coding and data analysis.\n",
    "- Understand how to use Jupyter Notebooks effectively for interactive coding and data analysis.\r\n",
    "\r\n",
    "\r\n"
   ]
  },
  {
   "cell_type": "markdown",
   "id": "a4cd872d-b294-4453-8389-8812f29f9bfa",
   "metadata": {},
   "source": [
    "## 4. Problem Solving and Debugging"
   ]
  },
  {
   "cell_type": "markdown",
   "id": "caabde44-2c9b-43b9-b719-62a048751782",
   "metadata": {},
   "source": [
    "- Develop problem-solving skills and learn effective debugging techniques.\n",
    "- Understand how to troubleshoot and fix common programming errors.\n"
   ]
  },
  {
   "cell_type": "markdown",
   "id": "f392a5c6-fa74-48b7-8902-a2b6d3f759a6",
   "metadata": {},
   "source": [
    "*Enjoy coding in Python at the end of this class!*"
   ]
  },
  {
   "cell_type": "markdown",
   "id": "2b8ec001-2b95-408c-8f1a-ce9891cfadc0",
   "metadata": {},
   "source": [
    "![Image](https://www.shutterstock.com/image-vector/vector-high-quality-illustration-french-600nw-1705374517.jpg)"
   ]
  },
  {
   "cell_type": "code",
   "execution_count": 3,
   "id": "4b2ba996-ae71-4bd0-9897-eedc2d30dbb1",
   "metadata": {},
   "outputs": [],
   "source": [
    "y = 10"
   ]
  },
  {
   "cell_type": "code",
   "execution_count": 4,
   "id": "e6a13722-1234-430b-8a3a-ca633596c28b",
   "metadata": {},
   "outputs": [
    {
     "data": {
      "text/plain": [
       "10"
      ]
     },
     "execution_count": 4,
     "metadata": {},
     "output_type": "execute_result"
    }
   ],
   "source": [
    "y"
   ]
  },
  {
   "cell_type": "code",
   "execution_count": 5,
   "id": "ad83af91-2dd6-40c6-bc85-b8ac6a5197f1",
   "metadata": {},
   "outputs": [
    {
     "name": "stdout",
     "output_type": "stream",
     "text": [
      "10\n"
     ]
    }
   ],
   "source": [
    "print(y)"
   ]
  },
  {
   "cell_type": "code",
   "execution_count": 6,
   "id": "c6acf0df-4543-418a-940a-d1843beba61d",
   "metadata": {},
   "outputs": [
    {
     "name": "stdout",
     "output_type": "stream",
     "text": [
      "10\n",
      "20\n",
      "30\n",
      "40\n",
      "50\n",
      "60\n",
      "70\n",
      "10\n"
     ]
    }
   ],
   "source": [
    "for i in [10,20,30,40,50,60,70]:\n",
    "    print(i)\n",
    "    \n",
    "for i in [y]:\n",
    "    print(i)"
   ]
  },
  {
   "cell_type": "code",
   "execution_count": 17,
   "id": "2dfd185a-d511-4776-8f01-1f4af8f7cc8b",
   "metadata": {},
   "outputs": [],
   "source": [
    "def say_goodbye(y):\n",
    "    print(\"goodbye \" + str(y))"
   ]
  },
  {
   "cell_type": "code",
   "execution_count": 18,
   "id": "839e1ee4-b643-4358-b21c-496e5988b19a",
   "metadata": {},
   "outputs": [
    {
     "name": "stdout",
     "output_type": "stream",
     "text": [
      "goodbye Jackie\n"
     ]
    }
   ],
   "source": [
    "say_goodbye(\"Jackie\")"
   ]
  },
  {
   "cell_type": "code",
   "execution_count": 26,
   "id": "0d520709-79f0-45f9-bb77-4504720a7fb1",
   "metadata": {},
   "outputs": [],
   "source": [
    "def return_goodbye(y):\n",
    "    z = \"goodbye \" + y\n",
    "    return z"
   ]
  },
  {
   "cell_type": "code",
   "execution_count": 27,
   "id": "603b9817-9db4-4ae2-b6fb-d465b9316c1a",
   "metadata": {},
   "outputs": [],
   "source": [
    "farewell = return_goodbye(\"Jackie\")"
   ]
  },
  {
   "cell_type": "code",
   "execution_count": 28,
   "id": "fa1f8b28-4de2-491b-a049-2b9057e739db",
   "metadata": {},
   "outputs": [
    {
     "data": {
      "text/plain": [
       "'goodbye Jackie'"
      ]
     },
     "execution_count": 28,
     "metadata": {},
     "output_type": "execute_result"
    }
   ],
   "source": [
    "farewell"
   ]
  }
 ],
 "metadata": {
  "kernelspec": {
   "display_name": "Python 3 (ipykernel)",
   "language": "python",
   "name": "python3"
  },
  "language_info": {
   "codemirror_mode": {
    "name": "ipython",
    "version": 3
   },
   "file_extension": ".py",
   "mimetype": "text/x-python",
   "name": "python",
   "nbconvert_exporter": "python",
   "pygments_lexer": "ipython3",
   "version": "3.12.1"
  }
 },
 "nbformat": 4,
 "nbformat_minor": 5
}
