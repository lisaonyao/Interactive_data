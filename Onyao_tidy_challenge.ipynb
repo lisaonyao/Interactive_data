{
 "cells": [
  {
   "cell_type": "markdown",
   "id": "98df5b74-1def-4c19-b51d-59a0df587ec2",
   "metadata": {},
   "source": [
    "## Lisa's Tidy Challenge Assignment"
   ]
  },
  {
   "cell_type": "code",
   "execution_count": 91,
   "id": "d7595591-26d4-43f1-a799-1b9d0e557445",
   "metadata": {},
   "outputs": [],
   "source": [
    "import pandas as pd\n",
    "import json"
   ]
  },
  {
   "cell_type": "code",
   "execution_count": 92,
   "id": "6a08e959-be5d-42ca-9619-a06449cceee0",
   "metadata": {},
   "outputs": [],
   "source": [
    "with open('chessbuds_messages.json') as j:\n",
    "    chess_buds = json.load(j)"
   ]
  },
  {
   "cell_type": "code",
   "execution_count": 93,
   "id": "564c29c6-7839-48fb-ab67-6923982526e7",
   "metadata": {},
   "outputs": [
    {
     "data": {
      "text/plain": [
       "dict"
      ]
     },
     "execution_count": 93,
     "metadata": {},
     "output_type": "execute_result"
    }
   ],
   "source": [
    "type(chess_buds)"
   ]
  },
  {
   "cell_type": "code",
   "execution_count": 94,
   "id": "23bea911-a095-4ada-8939-4a78f010af7f",
   "metadata": {},
   "outputs": [
    {
     "data": {
      "text/plain": [
       "dict_keys(['participants', 'messages', 'title', 'is_still_participant', 'thread_type', 'thread_path', 'magic_words', 'joinable_mode'])"
      ]
     },
     "execution_count": 94,
     "metadata": {},
     "output_type": "execute_result"
    }
   ],
   "source": [
    "chess_buds.keys()"
   ]
  },
  {
   "cell_type": "code",
   "execution_count": 95,
   "id": "066be5cf-ef00-4537-b646-b5a47a67f682",
   "metadata": {
    "scrolled": true
   },
   "outputs": [
    {
     "data": {
      "text/plain": [
       "[{'sender_name': 'Joanna Rusch',\n",
       "  'timestamp_ms': 1666374933946,\n",
       "  'content': \"Maybe he just wants to ride the publicity for a bit longer, even if he doesn't get any money from the lawsuit. Like, I didn't know his name before this but I certainly do now.\",\n",
       "  'reactions': [{'reaction': 'ð\\x9f\\x91\\x8d', 'actor': 'Chad Larson'},\n",
       "   {'reaction': 'ð\\x9f\\x91\\x8d', 'actor': 'Chad Larson'}],\n",
       "  'type': 'Generic',\n",
       "  'is_unsent': False,\n",
       "  'is_taken_down': False,\n",
       "  'bumped_message_metadata': {'bumped_message': \"Maybe he just wants to ride the publicity for a bit longer, even if he doesn't get any money from the lawsuit. Like, I didn't know his name before this but I certainly do now.\",\n",
       "   'is_bumped': False}},\n",
       " {'sender_name': 'Chad Larson',\n",
       "  'timestamp_ms': 1666373448613,\n",
       "  'content': 'To be fair to Hans....no one wants to be associated with an \"anal bead\" theory.',\n",
       "  'reactions': [{'reaction': 'ð\\x9f\\x98\\x86', 'actor': 'Scott Pence'},\n",
       "   {'reaction': 'ð\\x9f\\x98\\x86', 'actor': 'Scott Pence'}],\n",
       "  'type': 'Generic',\n",
       "  'is_unsent': False,\n",
       "  'is_taken_down': False,\n",
       "  'bumped_message_metadata': {'bumped_message': 'To be fair to Hans....no one wants to be associated with an \"anal bead\" theory.',\n",
       "   'is_bumped': False}}]"
      ]
     },
     "execution_count": 95,
     "metadata": {},
     "output_type": "execute_result"
    }
   ],
   "source": [
    "chess_buds['messages'][0:2]"
   ]
  },
  {
   "cell_type": "code",
   "execution_count": 96,
   "id": "998ea319-fa84-464b-b427-bee076b748b0",
   "metadata": {},
   "outputs": [
    {
     "data": {
      "text/plain": [
       "dict_keys(['sender_name', 'timestamp_ms', 'content', 'reactions', 'type', 'is_unsent', 'is_taken_down', 'bumped_message_metadata'])"
      ]
     },
     "execution_count": 96,
     "metadata": {},
     "output_type": "execute_result"
    }
   ],
   "source": [
    "chess_buds['messages'][0].keys()"
   ]
  },
  {
   "cell_type": "code",
   "execution_count": 97,
   "id": "b60ad229-3886-48bf-b3f7-fb7ea79ee9ce",
   "metadata": {},
   "outputs": [
    {
     "data": {
      "text/plain": [
       "{'sender_name': 'Chad Larson',\n",
       " 'timestamp_ms': 1666373448613,\n",
       " 'content': 'To be fair to Hans....no one wants to be associated with an \"anal bead\" theory.',\n",
       " 'reactions': [{'reaction': 'ð\\x9f\\x98\\x86', 'actor': 'Scott Pence'},\n",
       "  {'reaction': 'ð\\x9f\\x98\\x86', 'actor': 'Scott Pence'}],\n",
       " 'type': 'Generic',\n",
       " 'is_unsent': False,\n",
       " 'is_taken_down': False,\n",
       " 'bumped_message_metadata': {'bumped_message': 'To be fair to Hans....no one wants to be associated with an \"anal bead\" theory.',\n",
       "  'is_bumped': False}}"
      ]
     },
     "execution_count": 97,
     "metadata": {},
     "output_type": "execute_result"
    }
   ],
   "source": [
    "chess_buds['messages'][1]"
   ]
  },
  {
   "cell_type": "code",
   "execution_count": 98,
   "id": "efef04bb-6e65-4e80-91b7-fa5dff5454fd",
   "metadata": {},
   "outputs": [],
   "source": [
    "chess_df = pd.DataFrame(chess_buds['messages'])"
   ]
  },
  {
   "cell_type": "code",
   "execution_count": 99,
   "id": "95c2b511-d11f-4351-9d68-3ef87f8571cb",
   "metadata": {},
   "outputs": [
    {
     "data": {
      "text/html": [
       "<div>\n",
       "<style scoped>\n",
       "    .dataframe tbody tr th:only-of-type {\n",
       "        vertical-align: middle;\n",
       "    }\n",
       "\n",
       "    .dataframe tbody tr th {\n",
       "        vertical-align: top;\n",
       "    }\n",
       "\n",
       "    .dataframe thead th {\n",
       "        text-align: right;\n",
       "    }\n",
       "</style>\n",
       "<table border=\"1\" class=\"dataframe\">\n",
       "  <thead>\n",
       "    <tr style=\"text-align: right;\">\n",
       "      <th></th>\n",
       "      <th>sender_name</th>\n",
       "      <th>timestamp_ms</th>\n",
       "      <th>content</th>\n",
       "      <th>reactions</th>\n",
       "      <th>type</th>\n",
       "      <th>is_unsent</th>\n",
       "      <th>is_taken_down</th>\n",
       "      <th>bumped_message_metadata</th>\n",
       "      <th>share</th>\n",
       "      <th>photos</th>\n",
       "      <th>gifs</th>\n",
       "      <th>users</th>\n",
       "    </tr>\n",
       "  </thead>\n",
       "  <tbody>\n",
       "    <tr>\n",
       "      <th>0</th>\n",
       "      <td>Joanna Rusch</td>\n",
       "      <td>1666374933946</td>\n",
       "      <td>Maybe he just wants to ride the publicity for ...</td>\n",
       "      <td>[{'reaction': 'ð', 'actor': 'Chad Larson'},...</td>\n",
       "      <td>Generic</td>\n",
       "      <td>False</td>\n",
       "      <td>False</td>\n",
       "      <td>{'bumped_message': 'Maybe he just wants to rid...</td>\n",
       "      <td>NaN</td>\n",
       "      <td>NaN</td>\n",
       "      <td>NaN</td>\n",
       "      <td>NaN</td>\n",
       "    </tr>\n",
       "    <tr>\n",
       "      <th>1</th>\n",
       "      <td>Chad Larson</td>\n",
       "      <td>1666373448613</td>\n",
       "      <td>To be fair to Hans....no one wants to be assoc...</td>\n",
       "      <td>[{'reaction': 'ð', 'actor': 'Scott Pence'},...</td>\n",
       "      <td>Generic</td>\n",
       "      <td>False</td>\n",
       "      <td>False</td>\n",
       "      <td>{'bumped_message': 'To be fair to Hans....no o...</td>\n",
       "      <td>NaN</td>\n",
       "      <td>NaN</td>\n",
       "      <td>NaN</td>\n",
       "      <td>NaN</td>\n",
       "    </tr>\n",
       "    <tr>\n",
       "      <th>2</th>\n",
       "      <td>Chad Larson</td>\n",
       "      <td>1666373216381</td>\n",
       "      <td>He would have to prove he didn't cheat and tha...</td>\n",
       "      <td>[{'reaction': 'ð', 'actor': 'Scott Pence'},...</td>\n",
       "      <td>Generic</td>\n",
       "      <td>False</td>\n",
       "      <td>False</td>\n",
       "      <td>{'bumped_message': 'He would have to prove he ...</td>\n",
       "      <td>NaN</td>\n",
       "      <td>NaN</td>\n",
       "      <td>NaN</td>\n",
       "      <td>NaN</td>\n",
       "    </tr>\n",
       "    <tr>\n",
       "      <th>3</th>\n",
       "      <td>Scott Pence</td>\n",
       "      <td>1666373164883</td>\n",
       "      <td>Yeah, no way. You over shoot and hope to get a...</td>\n",
       "      <td>[{'reaction': 'ð', 'actor': 'Chad Larson'},...</td>\n",
       "      <td>Generic</td>\n",
       "      <td>False</td>\n",
       "      <td>False</td>\n",
       "      <td>{'bumped_message': 'Yeah, no way. You over sho...</td>\n",
       "      <td>NaN</td>\n",
       "      <td>NaN</td>\n",
       "      <td>NaN</td>\n",
       "      <td>NaN</td>\n",
       "    </tr>\n",
       "    <tr>\n",
       "      <th>4</th>\n",
       "      <td>Chad Larson</td>\n",
       "      <td>1666373111157</td>\n",
       "      <td>From what I see, I don't think he could win.  ...</td>\n",
       "      <td>NaN</td>\n",
       "      <td>Generic</td>\n",
       "      <td>False</td>\n",
       "      <td>False</td>\n",
       "      <td>{'bumped_message': 'From what I see, I don't t...</td>\n",
       "      <td>NaN</td>\n",
       "      <td>NaN</td>\n",
       "      <td>NaN</td>\n",
       "      <td>NaN</td>\n",
       "    </tr>\n",
       "  </tbody>\n",
       "</table>\n",
       "</div>"
      ],
      "text/plain": [
       "    sender_name   timestamp_ms  \\\n",
       "0  Joanna Rusch  1666374933946   \n",
       "1   Chad Larson  1666373448613   \n",
       "2   Chad Larson  1666373216381   \n",
       "3   Scott Pence  1666373164883   \n",
       "4   Chad Larson  1666373111157   \n",
       "\n",
       "                                             content  \\\n",
       "0  Maybe he just wants to ride the publicity for ...   \n",
       "1  To be fair to Hans....no one wants to be assoc...   \n",
       "2  He would have to prove he didn't cheat and tha...   \n",
       "3  Yeah, no way. You over shoot and hope to get a...   \n",
       "4  From what I see, I don't think he could win.  ...   \n",
       "\n",
       "                                           reactions     type  is_unsent  \\\n",
       "0  [{'reaction': 'ð', 'actor': 'Chad Larson'},...  Generic      False   \n",
       "1  [{'reaction': 'ð', 'actor': 'Scott Pence'},...  Generic      False   \n",
       "2  [{'reaction': 'ð', 'actor': 'Scott Pence'},...  Generic      False   \n",
       "3  [{'reaction': 'ð', 'actor': 'Chad Larson'},...  Generic      False   \n",
       "4                                                NaN  Generic      False   \n",
       "\n",
       "   is_taken_down                            bumped_message_metadata share  \\\n",
       "0          False  {'bumped_message': 'Maybe he just wants to rid...   NaN   \n",
       "1          False  {'bumped_message': 'To be fair to Hans....no o...   NaN   \n",
       "2          False  {'bumped_message': 'He would have to prove he ...   NaN   \n",
       "3          False  {'bumped_message': 'Yeah, no way. You over sho...   NaN   \n",
       "4          False  {'bumped_message': 'From what I see, I don't t...   NaN   \n",
       "\n",
       "  photos gifs users  \n",
       "0    NaN  NaN   NaN  \n",
       "1    NaN  NaN   NaN  \n",
       "2    NaN  NaN   NaN  \n",
       "3    NaN  NaN   NaN  \n",
       "4    NaN  NaN   NaN  "
      ]
     },
     "execution_count": 99,
     "metadata": {},
     "output_type": "execute_result"
    }
   ],
   "source": [
    "chess_df.head()"
   ]
  },
  {
   "cell_type": "markdown",
   "id": "57d8c6ce-444c-407b-a91e-5e71a0fff8bb",
   "metadata": {},
   "source": [
    "## Dropping the null columns\n",
    "- axis 1 indicates that this is happening along the columns"
   ]
  },
  {
   "cell_type": "code",
   "execution_count": 100,
   "id": "a4faa135-5df3-4dd3-ba15-e9425ce2ae47",
   "metadata": {},
   "outputs": [
    {
     "data": {
      "text/html": [
       "<div>\n",
       "<style scoped>\n",
       "    .dataframe tbody tr th:only-of-type {\n",
       "        vertical-align: middle;\n",
       "    }\n",
       "\n",
       "    .dataframe tbody tr th {\n",
       "        vertical-align: top;\n",
       "    }\n",
       "\n",
       "    .dataframe thead th {\n",
       "        text-align: right;\n",
       "    }\n",
       "</style>\n",
       "<table border=\"1\" class=\"dataframe\">\n",
       "  <thead>\n",
       "    <tr style=\"text-align: right;\">\n",
       "      <th></th>\n",
       "      <th>sender_name</th>\n",
       "      <th>timestamp_ms</th>\n",
       "      <th>type</th>\n",
       "      <th>is_unsent</th>\n",
       "      <th>is_taken_down</th>\n",
       "      <th>bumped_message_metadata</th>\n",
       "    </tr>\n",
       "  </thead>\n",
       "  <tbody>\n",
       "    <tr>\n",
       "      <th>0</th>\n",
       "      <td>Joanna Rusch</td>\n",
       "      <td>1666374933946</td>\n",
       "      <td>Generic</td>\n",
       "      <td>False</td>\n",
       "      <td>False</td>\n",
       "      <td>{'bumped_message': 'Maybe he just wants to rid...</td>\n",
       "    </tr>\n",
       "    <tr>\n",
       "      <th>1</th>\n",
       "      <td>Chad Larson</td>\n",
       "      <td>1666373448613</td>\n",
       "      <td>Generic</td>\n",
       "      <td>False</td>\n",
       "      <td>False</td>\n",
       "      <td>{'bumped_message': 'To be fair to Hans....no o...</td>\n",
       "    </tr>\n",
       "    <tr>\n",
       "      <th>2</th>\n",
       "      <td>Chad Larson</td>\n",
       "      <td>1666373216381</td>\n",
       "      <td>Generic</td>\n",
       "      <td>False</td>\n",
       "      <td>False</td>\n",
       "      <td>{'bumped_message': 'He would have to prove he ...</td>\n",
       "    </tr>\n",
       "    <tr>\n",
       "      <th>3</th>\n",
       "      <td>Scott Pence</td>\n",
       "      <td>1666373164883</td>\n",
       "      <td>Generic</td>\n",
       "      <td>False</td>\n",
       "      <td>False</td>\n",
       "      <td>{'bumped_message': 'Yeah, no way. You over sho...</td>\n",
       "    </tr>\n",
       "    <tr>\n",
       "      <th>4</th>\n",
       "      <td>Chad Larson</td>\n",
       "      <td>1666373111157</td>\n",
       "      <td>Generic</td>\n",
       "      <td>False</td>\n",
       "      <td>False</td>\n",
       "      <td>{'bumped_message': 'From what I see, I don't t...</td>\n",
       "    </tr>\n",
       "    <tr>\n",
       "      <th>...</th>\n",
       "      <td>...</td>\n",
       "      <td>...</td>\n",
       "      <td>...</td>\n",
       "      <td>...</td>\n",
       "      <td>...</td>\n",
       "      <td>...</td>\n",
       "    </tr>\n",
       "    <tr>\n",
       "      <th>218</th>\n",
       "      <td>Scott Pence</td>\n",
       "      <td>1615855643693</td>\n",
       "      <td>Generic</td>\n",
       "      <td>False</td>\n",
       "      <td>False</td>\n",
       "      <td>{'bumped_message': 'Thank you, thank you.', 'i...</td>\n",
       "    </tr>\n",
       "    <tr>\n",
       "      <th>219</th>\n",
       "      <td>Scott Pence</td>\n",
       "      <td>1615855620614</td>\n",
       "      <td>Generic</td>\n",
       "      <td>False</td>\n",
       "      <td>False</td>\n",
       "      <td>{'bumped_message': '', 'is_bumped': False}</td>\n",
       "    </tr>\n",
       "    <tr>\n",
       "      <th>220</th>\n",
       "      <td>Chad Larson</td>\n",
       "      <td>1615854725212</td>\n",
       "      <td>Subscribe</td>\n",
       "      <td>False</td>\n",
       "      <td>False</td>\n",
       "      <td>{'is_bumped': False}</td>\n",
       "    </tr>\n",
       "    <tr>\n",
       "      <th>221</th>\n",
       "      <td>Chad Larson</td>\n",
       "      <td>1615854680797</td>\n",
       "      <td>Generic</td>\n",
       "      <td>False</td>\n",
       "      <td>False</td>\n",
       "      <td>{'bumped_message': 'Scott studied my games, di...</td>\n",
       "    </tr>\n",
       "    <tr>\n",
       "      <th>222</th>\n",
       "      <td>Chad Larson</td>\n",
       "      <td>1615854650355</td>\n",
       "      <td>Generic</td>\n",
       "      <td>False</td>\n",
       "      <td>False</td>\n",
       "      <td>{'is_bumped': False}</td>\n",
       "    </tr>\n",
       "  </tbody>\n",
       "</table>\n",
       "<p>223 rows × 6 columns</p>\n",
       "</div>"
      ],
      "text/plain": [
       "      sender_name   timestamp_ms       type  is_unsent  is_taken_down  \\\n",
       "0    Joanna Rusch  1666374933946    Generic      False          False   \n",
       "1     Chad Larson  1666373448613    Generic      False          False   \n",
       "2     Chad Larson  1666373216381    Generic      False          False   \n",
       "3     Scott Pence  1666373164883    Generic      False          False   \n",
       "4     Chad Larson  1666373111157    Generic      False          False   \n",
       "..            ...            ...        ...        ...            ...   \n",
       "218   Scott Pence  1615855643693    Generic      False          False   \n",
       "219   Scott Pence  1615855620614    Generic      False          False   \n",
       "220   Chad Larson  1615854725212  Subscribe      False          False   \n",
       "221   Chad Larson  1615854680797    Generic      False          False   \n",
       "222   Chad Larson  1615854650355    Generic      False          False   \n",
       "\n",
       "                               bumped_message_metadata  \n",
       "0    {'bumped_message': 'Maybe he just wants to rid...  \n",
       "1    {'bumped_message': 'To be fair to Hans....no o...  \n",
       "2    {'bumped_message': 'He would have to prove he ...  \n",
       "3    {'bumped_message': 'Yeah, no way. You over sho...  \n",
       "4    {'bumped_message': 'From what I see, I don't t...  \n",
       "..                                                 ...  \n",
       "218  {'bumped_message': 'Thank you, thank you.', 'i...  \n",
       "219         {'bumped_message': '', 'is_bumped': False}  \n",
       "220                               {'is_bumped': False}  \n",
       "221  {'bumped_message': 'Scott studied my games, di...  \n",
       "222                               {'is_bumped': False}  \n",
       "\n",
       "[223 rows x 6 columns]"
      ]
     },
     "execution_count": 100,
     "metadata": {},
     "output_type": "execute_result"
    }
   ],
   "source": [
    "chess_df = chess_df.dropna(axis=1)\n",
    "chess_df"
   ]
  },
  {
   "cell_type": "markdown",
   "id": "9856ecf9-9e0f-4dd2-9d5e-7be70ab281df",
   "metadata": {
    "jp-MarkdownHeadingCollapsed": true
   },
   "source": [
    "## Dropping the columns containing the null values\n",
    "(I don't know why for some reason the code does not work)"
   ]
  },
  {
   "cell_type": "markdown",
   "id": "66796b02-5be8-4560-a3e6-5acdd052cd22",
   "metadata": {
    "jp-MarkdownHeadingCollapsed": true
   },
   "source": [
    "## Describe what the row-level (observation) represents and what each column represents"
   ]
  },
  {
   "cell_type": "markdown",
   "id": "9e82748d-02e2-49db-8e34-526af1f4eb86",
   "metadata": {},
   "source": [
    "-The observation(rows) describes the chess player's messsages\n",
    "\n",
    "-The variables(columns) describes what their messages contain, how other chess players reacted to them, the timestamps and so on..."
   ]
  },
  {
   "cell_type": "markdown",
   "id": "52b7dbd9-9ca5-4089-a78e-a4005cd0c2cd",
   "metadata": {},
   "source": [
    "## How the final DataFrame meets tidy data principles"
   ]
  },
  {
   "cell_type": "markdown",
   "id": "f2923f0f-7ad4-4789-bf1f-a32e11709dc3",
   "metadata": {},
   "source": [
    "- Each observation forms a row\n",
    "- Each variable forms a column and contains values"
   ]
  },
  {
   "cell_type": "markdown",
   "id": "c0c7ea8a-28c8-4139-9fc7-dcc054ee1d07",
   "metadata": {},
   "source": [
    "## Allternative tidy formats "
   ]
  },
  {
   "cell_type": "markdown",
   "id": "fab8d89c-3126-4155-ae5e-c935119311a9",
   "metadata": {},
   "source": [
    "Long fomart, where each row represents a single observation"
   ]
  },
  {
   "cell_type": "markdown",
   "id": "99ef3cd8-f0b3-43f8-acb5-b6d8f87a8936",
   "metadata": {},
   "source": [
    "## A potential visualization that would let someone explore and, ultimately, better understand this data"
   ]
  },
  {
   "cell_type": "markdown",
   "id": "831dbcb3-ee82-4276-8e3b-4805f179adae",
   "metadata": {},
   "source": [
    "**Scatter Plot Matrix**\n",
    "- The visualization would consist of a grid of scatter plots, where each variable in the dataset is represented on both the x-axis and y-axis of different plots. This allows for pairwise comparison of variables, showing how they relate to each other."
   ]
  }
 ],
 "metadata": {
  "kernelspec": {
   "display_name": "Python 3 (ipykernel)",
   "language": "python",
   "name": "python3"
  },
  "language_info": {
   "codemirror_mode": {
    "name": "ipython",
    "version": 3
   },
   "file_extension": ".py",
   "mimetype": "text/x-python",
   "name": "python",
   "nbconvert_exporter": "python",
   "pygments_lexer": "ipython3",
   "version": "3.12.1"
  }
 },
 "nbformat": 4,
 "nbformat_minor": 5
}
