{
 "cells": [
  {
   "cell_type": "code",
   "execution_count": 1,
   "id": "dfc6039b-2c97-49df-a64e-aef617d27faf",
   "metadata": {},
   "outputs": [],
   "source": [
    "import pandas as pd "
   ]
  },
  {
   "cell_type": "code",
   "execution_count": 2,
   "id": "4f559fbf-10df-4678-965d-547904f67100",
   "metadata": {},
   "outputs": [
    {
     "data": {
      "text/plain": [
       "pandas.core.frame.DataFrame"
      ]
     },
     "execution_count": 2,
     "metadata": {},
     "output_type": "execute_result"
    }
   ],
   "source": [
    "pd.DataFrame"
   ]
  },
  {
   "cell_type": "code",
   "execution_count": 5,
   "id": "5c69b256-7410-4f01-bd73-c8feac9788d6",
   "metadata": {},
   "outputs": [
    {
     "data": {
      "text/plain": [
       "[200, 30, 40, 700, 60, 10]"
      ]
     },
     "execution_count": 5,
     "metadata": {},
     "output_type": "execute_result"
    }
   ],
   "source": [
    "my_items = [200, 30 ,40 ,700 ,60,10]\n",
    "my_items"
   ]
  },
  {
   "cell_type": "code",
   "execution_count": 6,
   "id": "71791ea8-86bb-4cf1-9393-57a9740a79a2",
   "metadata": {},
   "outputs": [
    {
     "data": {
      "text/html": [
       "<div>\n",
       "<style scoped>\n",
       "    .dataframe tbody tr th:only-of-type {\n",
       "        vertical-align: middle;\n",
       "    }\n",
       "\n",
       "    .dataframe tbody tr th {\n",
       "        vertical-align: top;\n",
       "    }\n",
       "\n",
       "    .dataframe thead th {\n",
       "        text-align: right;\n",
       "    }\n",
       "</style>\n",
       "<table border=\"1\" class=\"dataframe\">\n",
       "  <thead>\n",
       "    <tr style=\"text-align: right;\">\n",
       "      <th></th>\n",
       "      <th>number of players</th>\n",
       "    </tr>\n",
       "  </thead>\n",
       "  <tbody>\n",
       "    <tr>\n",
       "      <th>0</th>\n",
       "      <td>200</td>\n",
       "    </tr>\n",
       "    <tr>\n",
       "      <th>1</th>\n",
       "      <td>30</td>\n",
       "    </tr>\n",
       "    <tr>\n",
       "      <th>2</th>\n",
       "      <td>40</td>\n",
       "    </tr>\n",
       "    <tr>\n",
       "      <th>3</th>\n",
       "      <td>700</td>\n",
       "    </tr>\n",
       "    <tr>\n",
       "      <th>4</th>\n",
       "      <td>60</td>\n",
       "    </tr>\n",
       "    <tr>\n",
       "      <th>5</th>\n",
       "      <td>10</td>\n",
       "    </tr>\n",
       "  </tbody>\n",
       "</table>\n",
       "</div>"
      ],
      "text/plain": [
       "   number of players\n",
       "0                200\n",
       "1                 30\n",
       "2                 40\n",
       "3                700\n",
       "4                 60\n",
       "5                 10"
      ]
     },
     "execution_count": 6,
     "metadata": {},
     "output_type": "execute_result"
    }
   ],
   "source": [
    "pd.DataFrame ({\"number of players\" :my_items})"
   ]
  },
  {
   "cell_type": "code",
   "execution_count": 15,
   "id": "9aee0a77-ef8c-44e3-b991-cb39cbfd7203",
   "metadata": {},
   "outputs": [],
   "source": [
    "json_option_1 =[{'a':9, 'b':5, 'c':11}, {'a': 3, 'b': 19, 'c': 15}, {'a': 7, 'b': 12, 'c': 10}]"
   ]
  },
  {
   "cell_type": "code",
   "execution_count": 16,
   "id": "48ace1a5-17ea-450e-8714-75552f6d4f32",
   "metadata": {},
   "outputs": [
    {
     "data": {
      "text/html": [
       "<div>\n",
       "<style scoped>\n",
       "    .dataframe tbody tr th:only-of-type {\n",
       "        vertical-align: middle;\n",
       "    }\n",
       "\n",
       "    .dataframe tbody tr th {\n",
       "        vertical-align: top;\n",
       "    }\n",
       "\n",
       "    .dataframe thead th {\n",
       "        text-align: right;\n",
       "    }\n",
       "</style>\n",
       "<table border=\"1\" class=\"dataframe\">\n",
       "  <thead>\n",
       "    <tr style=\"text-align: right;\">\n",
       "      <th></th>\n",
       "      <th>a</th>\n",
       "      <th>b</th>\n",
       "      <th>c</th>\n",
       "    </tr>\n",
       "  </thead>\n",
       "  <tbody>\n",
       "    <tr>\n",
       "      <th>0</th>\n",
       "      <td>9</td>\n",
       "      <td>5</td>\n",
       "      <td>11</td>\n",
       "    </tr>\n",
       "    <tr>\n",
       "      <th>1</th>\n",
       "      <td>3</td>\n",
       "      <td>19</td>\n",
       "      <td>15</td>\n",
       "    </tr>\n",
       "    <tr>\n",
       "      <th>2</th>\n",
       "      <td>7</td>\n",
       "      <td>12</td>\n",
       "      <td>10</td>\n",
       "    </tr>\n",
       "  </tbody>\n",
       "</table>\n",
       "</div>"
      ],
      "text/plain": [
       "   a   b   c\n",
       "0  9   5  11\n",
       "1  3  19  15\n",
       "2  7  12  10"
      ]
     },
     "execution_count": 16,
     "metadata": {},
     "output_type": "execute_result"
    }
   ],
   "source": [
    "df_option_1 = pd.DataFrame(json_option_1)\n",
    "df_option_1"
   ]
  },
  {
   "cell_type": "code",
   "execution_count": 30,
   "id": "aa77af5a-90a8-407a-8737-48122b3705f9",
   "metadata": {},
   "outputs": [
    {
     "data": {
      "text/plain": [
       "0    9\n",
       "1    3\n",
       "2    7\n",
       "Name: a, dtype: int64"
      ]
     },
     "execution_count": 30,
     "metadata": {},
     "output_type": "execute_result"
    }
   ],
   "source": [
    "df_option_1['a']"
   ]
  },
  {
   "cell_type": "code",
   "execution_count": 37,
   "id": "4e5ce454-510a-4e04-8083-25c5e68658b5",
   "metadata": {},
   "outputs": [
    {
     "data": {
      "text/plain": [
       "a     9\n",
       "b     5\n",
       "c    11\n",
       "Name: 0, dtype: int64"
      ]
     },
     "execution_count": 37,
     "metadata": {},
     "output_type": "execute_result"
    }
   ],
   "source": [
    "df_option_1.iloc[0]"
   ]
  },
  {
   "cell_type": "code",
   "execution_count": 42,
   "id": "26c32d1a-54c4-4d90-8922-3cbc36720be1",
   "metadata": {},
   "outputs": [],
   "source": [
    "cces = pd.read_csv('cces_example_data.csv')"
   ]
  },
  {
   "cell_type": "code",
   "execution_count": 43,
   "id": "ce1a9cb5-27f9-4add-a516-fb1c07bb072c",
   "metadata": {},
   "outputs": [
    {
     "data": {
      "text/plain": [
       "<bound method NDFrame.head of      pew_religimp  pew_churatd  sex  educ  nonwhite  age  faminc_new  pid3  \\\n",
       "0               2            6    2     2         1   56           6     1   \n",
       "1               2            4    2     5         1   53          13     1   \n",
       "2               1            2    1     2         1   69          10     2   \n",
       "3               2            3    1     6         1   76          97     1   \n",
       "4               4            5    2     6         1   83           4     1   \n",
       "..            ...          ...  ...   ...       ...  ...         ...   ...   \n",
       "654             1            5    2     2         2   30           4     1   \n",
       "655             2            2    1     4         1   19          97     1   \n",
       "656             4            6    1     3         1   20           7     1   \n",
       "657             2            2    1     3         1   23           5     2   \n",
       "658             2            2    1     3         1   23           5     2   \n",
       "\n",
       "     ideo5  QueerPhobia  ...  InterGBiasParty  InterGBiasCand  InterGBiasSup  \\\n",
       "0        1     1.000000  ...              -99             -99            -96   \n",
       "1        2     3.000000  ...             -100            -100           -100   \n",
       "2        5     4.333333  ...               99              99             96   \n",
       "3        3     1.000000  ...              -86             -91            -89   \n",
       "4        2     1.000000  ...              -80             -88            -87   \n",
       "..     ...          ...  ...              ...             ...            ...   \n",
       "654      1     2.666667  ...              -79             -90            -67   \n",
       "655      1     1.000000  ...              -49             -25             -7   \n",
       "656      1     1.000000  ...              -47             -47            -41   \n",
       "657      4     3.666667  ...               40              99             94   \n",
       "658      4     3.666667  ...               40              99             94   \n",
       "\n",
       "     LibMediaUse  ConMediaUse  Real_Threat  Symb_Threat  Evaluation  \\\n",
       "0       2.666667     1.000000         5.00     4.857143           0   \n",
       "1       2.000000     2.000000         5.00     5.000000           0   \n",
       "2       1.000000     1.000000         5.00     5.000000           2   \n",
       "3       4.666667     1.333333         4.25     4.428571           0   \n",
       "4       4.666667     3.666667         4.25     5.000000           0   \n",
       "..           ...          ...          ...          ...         ...   \n",
       "654     1.666667     1.666667         3.00     3.000000           3   \n",
       "655     2.666667     1.000000         3.75     4.714286           0   \n",
       "656     4.666667     4.666667         5.00     4.285714           0   \n",
       "657     2.000000     2.333333         2.50     3.000000           2   \n",
       "658     2.000000     2.333333         2.50     3.000000           2   \n",
       "\n",
       "     teamweight      caseid  \n",
       "0      0.505028  1231308943  \n",
       "1      0.852381  1232300315  \n",
       "2      1.320189  1232358697  \n",
       "3      0.519198  1232540961  \n",
       "4      1.154005  1232580601  \n",
       "..          ...         ...  \n",
       "654    1.182346  1259989749  \n",
       "655    0.660217  1260782541  \n",
       "656    1.027184  1260840787  \n",
       "657    1.433068  1261039231  \n",
       "658    1.433068  1261039231  \n",
       "\n",
       "[659 rows x 21 columns]>"
      ]
     },
     "execution_count": 43,
     "metadata": {},
     "output_type": "execute_result"
    }
   ],
   "source": [
    "cces.head"
   ]
  },
  {
   "cell_type": "code",
   "execution_count": 45,
   "id": "4a1f743d-3ca0-4b17-9e1f-fa634641dace",
   "metadata": {},
   "outputs": [
    {
     "data": {
      "text/plain": [
       "RangeIndex(start=0, stop=659, step=1)"
      ]
     },
     "execution_count": 45,
     "metadata": {},
     "output_type": "execute_result"
    }
   ],
   "source": [
    "cces.index"
   ]
  },
  {
   "cell_type": "markdown",
   "id": "d9ba17a8-ed48-45f7-a624-b2c52c3a854b",
   "metadata": {},
   "source": [
    "**Why dynamic, interactive data visualization are useful when communicating information**"
   ]
  },
  {
   "cell_type": "markdown",
   "id": "7603681a-3924-43de-bcc3-abe8fd4ba67d",
   "metadata": {},
   "source": [
    "-Interactive data allows engagement with data in ways that static images cannot"
   ]
  },
  {
   "cell_type": "markdown",
   "id": "70cc23f9-a72e-4501-80e3-b8956994f5cd",
   "metadata": {},
   "source": [
    "-Interactive data enables users to view different perspectives."
   ]
  },
  {
   "cell_type": "markdown",
   "id": "639dff63-4a33-43f7-8082-4bcebf9cd84a",
   "metadata": {},
   "source": [
    "-Data visualization interprets data and expresses its values as visual properties."
   ]
  }
 ],
 "metadata": {
  "kernelspec": {
   "display_name": "Python 3 (ipykernel)",
   "language": "python",
   "name": "python3"
  },
  "language_info": {
   "codemirror_mode": {
    "name": "ipython",
    "version": 3
   },
   "file_extension": ".py",
   "mimetype": "text/x-python",
   "name": "python",
   "nbconvert_exporter": "python",
   "pygments_lexer": "ipython3",
   "version": "3.12.1"
  }
 },
 "nbformat": 4,
 "nbformat_minor": 5
}
